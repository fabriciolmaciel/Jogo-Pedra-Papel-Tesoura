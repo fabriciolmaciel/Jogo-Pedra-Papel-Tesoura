{
 "cells": [
  {
   "cell_type": "markdown",
   "metadata": {},
   "source": [
    "#primeiro perguntar o nome, depois saudaçao\n",
    "#pedir o input do numero da jogada\n",
    "#comparar a jogada com o random do computador --> considerar a possibilidade de mais cenarios além de pedra papel e tesoura\n",
    "#criar funçao para dizer se perdeu, impatou ou ganhou\n",
    "#perguntar se quer continuar a jogar"
   ]
  },
  {
   "cell_type": "code",
   "execution_count": 8,
   "metadata": {},
   "outputs": [],
   "source": [
    "import random\n",
    "#para o computador gerar o resultado"
   ]
  },
  {
   "cell_type": "code",
   "execution_count": 47,
   "metadata": {},
   "outputs": [
    {
     "name": "stdout",
     "output_type": "stream",
     "text": [
      "Seja bem vindo, fab vamos jogar PEDRA, PAPEL e TESOURA? \n"
     ]
    }
   ],
   "source": [
    "def greetings (nome):\n",
    "    \n",
    "    print (f\"Seja bem vindo, {nome} vamos jogar PEDRA, PAPEL e TESOURA? \")\n",
    "\n",
    "nome = input(\"Qual o seu nome? \")\n",
    "\n",
    "greetings(nome)"
   ]
  },
  {
   "cell_type": "code",
   "execution_count": 49,
   "metadata": {},
   "outputs": [
    {
     "name": "stdout",
     "output_type": "stream",
     "text": [
      "OK, você escolheu 2.\n"
     ]
    },
    {
     "data": {
      "text/plain": [
       "2"
      ]
     },
     "execution_count": 49,
     "metadata": {},
     "output_type": "execute_result"
    }
   ],
   "source": [
    "def escolha_jogador ():\n",
    "    jogador = int(input('''Escolha:\n",
    "    [0] PEDRA\n",
    "    [1] PAPEL\n",
    "    [2] TESOURA'''))\n",
    "    print (f\"OK, você escolheu {jogador}.\")\n",
    "\n",
    "    return jogador\n",
    "\n",
    "escolha_jogador()"
   ]
  },
  {
   "cell_type": "code",
   "execution_count": 50,
   "metadata": {},
   "outputs": [
    {
     "name": "stdout",
     "output_type": "stream",
     "text": [
      "OK, você escolheu 2.\n",
      "Vitoria computador\n"
     ]
    }
   ],
   "source": [
    "computador = random.randint(0,2)\n",
    "jogador = escolha_jogador ()\n",
    "if computador == jogador:\n",
    "    print(\"Empate\")\n",
    "else:\n",
    "    if computador == 0:\n",
    "        if jogador == 1:\n",
    "            print (\"Vitória do jogador\")\n",
    "        elif jogador == 2:\n",
    "            print (\"Vitoria computador\")\n",
    "    if computador == 1:\n",
    "        if jogador == 2:\n",
    "            print (\"Vitoria jogador\")\n",
    "        if jogador == 0:\n",
    "            print(\"Vitória computador\")\n",
    "    if computador == 2:\n",
    "        if jogador == 0:\n",
    "            print(\"Computador perde\")\n",
    "        if jogador == 1:\n",
    "            print (\"Computador ganha\")\n",
    "\n",
    "    \n",
    "    \n",
    "\n",
    "    \n",
    "\n",
    "\n",
    "\n",
    "\n",
    "\n"
   ]
  },
  {
   "cell_type": "code",
   "execution_count": 19,
   "metadata": {},
   "outputs": [
    {
     "name": "stdout",
     "output_type": "stream",
     "text": [
      "****************************** Jogo Pedra, Papel, Tesoura ******************************\n"
     ]
    }
   ],
   "source": [
    "print(\"*\"*30, \"Jogo Pedra, Papel, Tesoura\", \"*\"*30)"
   ]
  },
  {
   "cell_type": "code",
   "execution_count": 24,
   "metadata": {},
   "outputs": [
    {
     "name": "stdout",
     "output_type": "stream",
     "text": [
      "opçoes:\n",
      "[0] PEDRA\n",
      "[1] PAPEL\n",
      "[2] TESOURA \n",
      "\n",
      "0\n"
     ]
    }
   ],
   "source": [
    "#print(\"*\"*30, \"Jogo Pedra, Papel, Tesoura\", \"*\"*30)\n",
    "items = (\"PEDRA\", \"PAPEL\", \"TESOURA\")\n",
    "computer = random.randint(0,2)\n",
    "print('''opçoes:\n",
    "[0] PEDRA\n",
    "[1] PAPEL\n",
    "[2] TESOURA \n",
    "''')\n",
    "jogador = int(input('Escolha o seu objeto'))\n",
    "\n",
    "\n",
    "\n"
   ]
  },
  {
   "cell_type": "markdown",
   "metadata": {},
   "source": [
    "\n"
   ]
  },
  {
   "cell_type": "code",
   "execution_count": 26,
   "metadata": {},
   "outputs": [],
   "source": [
    "def my_function_with_args(username, greeting):\n",
    "    \n",
    "    print(f'Hello, {username} , From My Function!, I wish you {greeting}')"
   ]
  }
 ],
 "metadata": {
  "interpreter": {
   "hash": "50cc668279f0a8d3e792271880ee08f274285515c65317a4caa5267964bac0df"
  },
  "kernelspec": {
   "display_name": "Python 3.9.12 ('base')",
   "language": "python",
   "name": "python3"
  },
  "language_info": {
   "codemirror_mode": {
    "name": "ipython",
    "version": 3
   },
   "file_extension": ".py",
   "mimetype": "text/x-python",
   "name": "python",
   "nbconvert_exporter": "python",
   "pygments_lexer": "ipython3",
   "version": "3.9.12"
  },
  "orig_nbformat": 4
 },
 "nbformat": 4,
 "nbformat_minor": 2
}
